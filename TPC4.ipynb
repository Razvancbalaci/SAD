{
  "nbformat": 4,
  "nbformat_minor": 0,
  "metadata": {
    "colab": {
      "name": "TPC4.ipynb",
      "version": "0.3.2",
      "provenance": [],
      "include_colab_link": true
    },
    "kernelspec": {
      "name": "python3",
      "display_name": "Python 3"
    }
  },
  "cells": [
    {
      "cell_type": "markdown",
      "metadata": {
        "id": "view-in-github",
        "colab_type": "text"
      },
      "source": [
        "<a href=\"https://colab.research.google.com/github/Razvancbalaci/SAD/blob/master/TPC4.ipynb\" target=\"_parent\"><img src=\"https://colab.research.google.com/assets/colab-badge.svg\" alt=\"Open In Colab\"/></a>"
      ]
    },
    {
      "metadata": {
        "id": "Gf0vqLepDIpW",
        "colab_type": "text"
      },
      "cell_type": "markdown",
      "source": [
        "# **TPC 4**"
      ]
    },
    {
      "metadata": {
        "id": "xDqzrqZMDMb3",
        "colab_type": "code",
        "colab": {}
      },
      "cell_type": "code",
      "source": [
        "from sklearn import datasets, tree, model_selection\n",
        "\n",
        "import pandas as pd\n",
        "import numpy as np\n",
        "import matplotlib.pyplot as plt\n",
        "\n",
        "digits = datasets.load_digits()"
      ],
      "execution_count": 0,
      "outputs": []
    },
    {
      "metadata": {
        "id": "FjzQgaNfDoEa",
        "colab_type": "code",
        "colab": {
          "base_uri": "https://localhost:8080/",
          "height": 808
        },
        "outputId": "9f51484b-3bc3-49d8-87c6-00a4f80e6113"
      },
      "cell_type": "code",
      "source": [
        "[features_train, features_test, classes_train, classes_test] = model_selection.train_test_split(digits.data, digits.target, test_size=0.30)\n",
        "model = tree.DecisionTreeClassifier()\n",
        "\n",
        "clf = model.fit(features_train, classes_train)\n",
        "\n",
        "score_train = model.score(features_train, classes_train)\n",
        "score_test = model.score(features_test, classes_test)\n",
        "\n",
        "print(\"Features:\", digits.target_names)\n",
        "print(\"Train_score:\", score_train)\n",
        "print(\"Test_score:\", score_test)\n",
        "\n",
        "print(\"Resultados mal classificados:\")\n",
        "res = model.predict(features_test)\n",
        "err_features=features_test[res!=classes_test,:][:2]\n",
        "print(\"Atual: \",classes_test[res!=classes_test])\n",
        "print(\"Predição:\",res[res!=classes_test])\n",
        "\n",
        "plt.figure()\n",
        "for i,feat in enumerate(err_features):\n",
        "    plt.subplot(1, 2, i+1)    \n",
        "    plt.imshow(feat.reshape(8,8), cmap='gray')\n",
        "\n",
        "plt.show()\n",
        "print(\"\")\n",
        "\n",
        "\n",
        "ok_features=features_test[res==classes_test,:][:2]\n",
        "\n",
        "print(\"Resultados bem classificados:\")\n",
        "print(\"Atual: \",classes_test[res!=classes_test])\n",
        "print(\"Predição:\",res[res!=classes_test])\n",
        "plt.figure()\n",
        "for i,feat in enumerate(ok_features):\n",
        "    plt.subplot(1, 2, i+1)    \n",
        "    plt.imshow(feat.reshape(8,8), cmap='gray')"
      ],
      "execution_count": 5,
      "outputs": [
        {
          "output_type": "stream",
          "text": [
            "Features: [0 1 2 3 4 5 6 7 8 9]\n",
            "Train_score: 1.0\n",
            "Test_score: 0.8351851851851851\n",
            "\n",
            "Resultados mal classificados:\n",
            "Atual:  [3 2 3 9 2 0 4 9 3 2 9 8 8 7 7 5 8 5 9 1 3 3 3 3 7 7 9 2 2 7 5 4 9 8 1 4 0\n",
            " 3 3 2 0 5 2 1 9 9 2 8 7 6 8 4 8 6 1 7 9 8 9 2 1 7 1 2 2 4 8 3 9 0 3 5 4 9\n",
            " 7 1 3 0 2 4 5 9 5 7 5 1 8 9 8]\n",
            "Predição: [8 3 8 8 3 8 9 5 1 7 4 2 1 4 9 4 3 2 3 2 8 8 8 8 9 4 3 1 8 3 3 6 7 1 9 6 8\n",
            " 9 7 3 8 2 8 4 7 5 7 2 3 4 6 6 2 4 9 9 1 9 1 8 8 4 8 1 1 5 2 4 7 5 5 8 1 3\n",
            " 9 3 9 8 8 6 2 1 8 9 1 3 2 7 9]\n"
          ],
          "name": "stdout"
        },
        {
          "output_type": "display_data",
          "data": {
            "image/png": "[encoded data removed]",
            "text/plain": [
              "<Figure size 576x396 with 2 Axes>"
            ]
          },
          "metadata": {
            "tags": []
          }
        },
        {
          "output_type": "stream",
          "text": [
            "\n",
            "Resultados bem classificados:\n",
            "Atual:  [3 2 3 9 2 0 4 9 3 2 9 8 8 7 7 5 8 5 9 1 3 3 3 3 7 7 9 2 2 7 5 4 9 8 1 4 0\n",
            " 3 3 2 0 5 2 1 9 9 2 8 7 6 8 4 8 6 1 7 9 8 9 2 1 7 1 2 2 4 8 3 9 0 3 5 4 9\n",
            " 7 1 3 0 2 4 5 9 5 7 5 1 8 9 8]\n",
            "Predição: [8 3 8 8 3 8 9 5 1 7 4 2 1 4 9 4 3 2 3 2 8 8 8 8 9 4 3 1 8 3 3 6 7 1 9 6 8\n",
            " 9 7 3 8 2 8 4 7 5 7 2 3 4 6 6 2 4 9 9 1 9 1 8 8 4 8 1 1 5 2 4 7 5 5 8 1 3\n",
            " 9 3 9 8 8 6 2 1 8 9 1 3 2 7 9]\n"
          ],
          "name": "stdout"
        },
        {
          "output_type": "display_data",
          "data": {
            "image/png": "[encoded data removed]",
            "text/plain": [
              "<Figure size 576x396 with 2 Axes>"
            ]
          },
          "metadata": {
            "tags": []
          }
        }
      ]
    },
    {
      "metadata": {
        "id": "_IlMu7hvEGUd",
        "colab_type": "code",
        "colab": {
          "base_uri": "https://localhost:8080/",
          "height": 51
        },
        "outputId": "09864999-81ac-49d5-c630-9d9f3b0be93e"
      },
      "cell_type": "code",
      "source": [
        "#Random Forrest\n",
        "import numpy as np\n",
        "import matplotlib.pyplot as plt\n",
        "from matplotlib.colors import ListedColormap\n",
        "from sklearn.ensemble import RandomForestClassifier\n",
        "from sklearn import datasets\n",
        "\n",
        "digits = datasets.load_digits()\n",
        "\n",
        "[features_train, features_test, classes_train, classes_test] = model_selection.train_test_split(digits.data, digits.target, test_size=0.30)\n",
        "model = RandomForestClassifier(n_estimators=1000)\n",
        "\n",
        "clf = model.fit(features_train, classes_train)\n",
        "\n",
        "score_train = model.score(features_train, classes_train)\n",
        "score_test = model.score(features_test, classes_test)\n",
        "\n",
        "print(\"Train_score:\", score_train)\n",
        "print(\"Test_score:\", score_test)"
      ],
      "execution_count": 7,
      "outputs": [
        {
          "output_type": "stream",
          "text": [
            "Train_score: 1.0\n",
            "Test_score: 0.9907407407407407\n"
          ],
          "name": "stdout"
        }
      ]
    },
    {
      "metadata": {
        "id": "6PsdYLJaEhBg",
        "colab_type": "code",
        "colab": {
          "base_uri": "https://localhost:8080/",
          "height": 51
        },
        "outputId": "d3f01d4a-d882-4ddd-f5a6-e2f0646fb0e1"
      },
      "cell_type": "code",
      "source": [
        "#Naive Bayes\n",
        "from sklearn import datasets\n",
        "from sklearn import datasets, tree, model_selection\n",
        "from sklearn.naive_bayes import GaussianNB\n",
        "gnb = GaussianNB()\n",
        "\n",
        "\n",
        "digits = datasets.load_digits()\n",
        "\n",
        "[features_train, features_test, classes_train, classes_test] = model_selection.train_test_split(digits.data, digits.target, test_size=0.30)\n",
        "y_pred = gnb.fit(features_train, classes_train)\n",
        "\n",
        "score_train = gnb.score(features_train, classes_train)\n",
        "score_test = gnb.score(features_test, classes_test)\n",
        "\n",
        "print(\"Train_score:\", score_train)\n",
        "print(\"Test_score:\", score_test)"
      ],
      "execution_count": 8,
      "outputs": [
        {
          "output_type": "stream",
          "text": [
            "Train_score: 0.8822593476531424\n",
            "Test_score: 0.8592592592592593\n"
          ],
          "name": "stdout"
        }
      ]
    },
    {
      "metadata": {
        "id": "zj-WD6iAEswl",
        "colab_type": "text"
      },
      "cell_type": "markdown",
      "source": [
        ""
      ]
    }
  ]
}